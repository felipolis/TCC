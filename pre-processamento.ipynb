{
 "cells": [
  {
   "cell_type": "markdown",
   "metadata": {},
   "source": [
    "# Pré Processamento\n",
    "Este arquivo está relacionado ao pré-processamento dos arquivos de audio em espectogramas."
   ]
  },
  {
   "cell_type": "code",
   "execution_count": null,
   "metadata": {},
   "outputs": [],
   "source": [
    "#!pip install librosa\n",
    "\n",
    "import os\n",
    "import librosa\n",
    "import librosa.display\n",
    "import matplotlib.pyplot as plt\n",
    "import numpy as np\n",
    "import matplotlib\n",
    "matplotlib.use('Agg')\n",
    "\n",
    "# Caminho dos diretórios de áudio e espectrogramas\n",
    "audio_dir = \"./data/train_audio/\"\n",
    "spectrogram_dir = \"./data/espectogramas\"\n",
    "\n",
    "# Se não existir o diretorio ./train_espectogramas, cria\n",
    "if not os.path.exists(spectrogram_dir):\n",
    "    os.mkdir(spectrogram_dir)\n",
    "\n"
   ]
  },
  {
   "cell_type": "code",
   "execution_count": null,
   "metadata": {},
   "outputs": [],
   "source": [
    "\n",
    "# Função para criar espectrograma e salvar a imagem\n",
    "def create_spectrogram(audio_path, output_path):\n",
    "    # Carrega o arquivo de áudio utilizando a biblioteca librosa\n",
    "    y, sr = librosa.load(audio_path)\n",
    "    # Calcula a Transformada de Fourier de Curto Prazo (STFT) do sinal de áudio com n_fft=2048, hop_length=1024\n",
    "    D = librosa.amplitude_to_db(np.abs(librosa.stft(y, n_fft=2048, hop_length=1024)), ref=np.max)\n",
    "    \n",
    "    # Calcula o tamanho proporcional da figura com base na duração do áudio\n",
    "    duration = librosa.get_duration(y=y, sr=sr)\n",
    "    figsize = (duration, 4)  # Ajuste o valor multiplicativo para controlar a largura\n",
    "    \n",
    "    # Cria a figura com o tamanho proporcional\n",
    "    plt.figure(figsize=figsize)\n",
    "\n",
    "    # Plota o espectrograma\n",
    "    librosa.display.specshow(D, sr=sr, hop_length=1024, x_axis='time', y_axis='linear') \n",
    "\n",
    "    # Remove os eixos\n",
    "    plt.axis('off')\n",
    "\n",
    "    # Salva a figura no diretório de espectrogramas\n",
    "    plt.savefig(output_path, bbox_inches='tight', pad_inches=0.0)\n",
    "\n",
    "    # Fecha a figura para liberar recursos de memória\n",
    "    plt.close()\n"
   ]
  },
  {
   "cell_type": "code",
   "execution_count": null,
   "metadata": {},
   "outputs": [],
   "source": [
    "# Percorrendo os diretórios de áudio\n",
    "for key in os.listdir(audio_dir):\n",
    "    key_dir = os.path.join(audio_dir, key)\n",
    "    if os.path.isdir(key_dir):\n",
    "        spectrogram_key_dir = os.path.join(spectrogram_dir, key)\n",
    "        os.makedirs(spectrogram_key_dir, exist_ok=True)\n",
    "        \n",
    "        for audio_name in os.listdir(key_dir):\n",
    "            if audio_name.endswith(\".ogg\"):\n",
    "                audio_path = os.path.join(key_dir, audio_name)\n",
    "                spectrogram_path = os.path.join(spectrogram_key_dir, audio_name.replace(\".ogg\", \".png\"))\n",
    "                create_spectrogram(audio_path, spectrogram_path)\n",
    "                print(f\"Espectrograma criado para {audio_name}\")"
   ]
  }
 ],
 "metadata": {
  "kernelspec": {
   "display_name": "Python 3 (ipykernel)",
   "language": "python",
   "name": "python3"
  },
  "language_info": {
   "codemirror_mode": {
    "name": "ipython",
    "version": 3
   },
   "file_extension": ".py",
   "mimetype": "text/x-python",
   "name": "python",
   "nbconvert_exporter": "python",
   "pygments_lexer": "ipython3",
   "version": "3.11.1"
  }
 },
 "nbformat": 4,
 "nbformat_minor": 2
}
