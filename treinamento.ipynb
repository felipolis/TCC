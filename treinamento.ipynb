{
 "cells": [
  {
   "cell_type": "code",
   "execution_count": 1,
   "metadata": {},
   "outputs": [],
   "source": [
    "import numpy as np\n",
    "import pandas as pd\n",
    "from sklearn.model_selection import train_test_split, StratifiedKFold"
   ]
  },
  {
   "cell_type": "code",
   "execution_count": 2,
   "metadata": {},
   "outputs": [],
   "source": [
    "import os\n",
    "\n",
    "diretorio_base = \"./data/espectogramas/\"\n",
    "\n",
    "# Lista de arrays no formato [[key, nome], ...]\n",
    "lista_arquivos = []\n",
    "\n",
    "for pasta in os.listdir(diretorio_base):\n",
    "    if os.path.isdir(os.path.join(diretorio_base, pasta)):\n",
    "        diretorio_pasta = os.path.join(diretorio_base, pasta)\n",
    "        for arquivo in os.listdir(diretorio_pasta):\n",
    "            lista_arquivos.append([pasta, arquivo])\n",
    "\n",
    "\n",
    "df_X = pd.DataFrame(lista_arquivos, columns=['key', 'nome_arquivo'])\n",
    "\n",
    "\n",
    "# Remova o elemento em que só há uma ocorrência de determinada 'key'\n",
    "df_X = df_X.groupby('key').filter(lambda x: len(x) > 1)\n",
    "\n",
    "# transforma em lista\n",
    "lista_arquivos = df_X.values.tolist()\n",
    "\n",
    "# Separa a primeira coluna da lista na variavel nome_arquivo e key\n",
    "key, nome_arquivo = zip(*lista_arquivos)\n",
    "\n",
    "# Remove o .png do nome do arquivo\n",
    "nome_arquivo = [nome[:-4] for nome in nome_arquivo]\n",
    "\n",
    "\n",
    "\n"
   ]
  },
  {
   "cell_type": "code",
   "execution_count": 3,
   "metadata": {},
   "outputs": [],
   "source": [
    "arq_treino, arq_teste, y_treino, y_teste = train_test_split(nome_arquivo, key, test_size=0.2, stratify=key)\n"
   ]
  },
  {
   "cell_type": "code",
   "execution_count": 19,
   "metadata": {},
   "outputs": [
    {
     "name": "stdout",
     "output_type": "stream",
     "text": [
      "Acurácia:  0.07751285233114696\n"
     ]
    }
   ],
   "source": [
    "# Carregar o arquivo LBP.csv\n",
    "df_lbp = pd.read_csv('./data/caracteristicas/LBP.csv')\n",
    "\n",
    "# Filtrar as amostras com 'nome_arquivo' presente em arq_treino\n",
    "df_train = df_lbp[df_lbp['nome_arquivo'].isin(arq_treino)]\n",
    "\n",
    "# Filtrar as amostras com 'nome_arquivo' presente em arq_teste\n",
    "df_test = df_lbp[df_lbp['nome_arquivo'].isin(arq_teste)]\n",
    "\n",
    "# Salvar os arquivos\n",
    "df_train.to_csv('./data/caracteristicas/LBP_treino.csv', index=False)\n",
    "df_test.to_csv('./data/caracteristicas/LBP_teste.csv', index=False)\n",
    "\n",
    "# iporta o knn\n",
    "from sklearn.neighbors import KNeighborsClassifier\n",
    "\n",
    "# Carrega o arquivo de treino\n",
    "df_train = pd.read_csv('./data/caracteristicas/LBP_treino.csv')\n",
    "\n",
    "# Carrega o arquivo de teste\n",
    "df_test = pd.read_csv('./data/caracteristicas/LBP_teste.csv')\n",
    "\n",
    "# Separa as colunas de entrada e saida\n",
    "y_train = df_train['key']\n",
    "X_train = df_train.drop(columns=['key', 'nome_arquivo'])\n",
    "\n",
    "y_test = df_test['key']\n",
    "X_test = df_test.drop(columns=['key', 'nome_arquivo'])\n",
    "\n",
    "# normaliza os dados\n",
    "from sklearn.preprocessing import StandardScaler\n",
    "scaler = StandardScaler()\n",
    "\n",
    "# Ajusta os dados de treino\n",
    "X_train = scaler.fit_transform(X_train)\n",
    "\n",
    "# Ajusta os dados de teste\n",
    "X_test = scaler.transform(X_test)\n",
    "\n",
    "# Cria o classificador\n",
    "knn = KNeighborsClassifier(n_neighbors=11)\n",
    "\n",
    "# Treina o classificador\n",
    "knn.fit(X_train, y_train)\n",
    "\n",
    "# Testa o classificador\n",
    "y_pred = knn.predict(X_test)\n",
    "\n",
    "# Calcula a acurácia\n",
    "from sklearn.metrics import accuracy_score\n",
    "acc = accuracy_score(y_test, y_pred)\n",
    "print('Acurácia: ', acc)\n"
   ]
  },
  {
   "cell_type": "code",
   "execution_count": null,
   "metadata": {},
   "outputs": [],
   "source": []
  }
 ],
 "metadata": {
  "kernelspec": {
   "display_name": "Python 3",
   "language": "python",
   "name": "python3"
  },
  "language_info": {
   "codemirror_mode": {
    "name": "ipython",
    "version": 3
   },
   "file_extension": ".py",
   "mimetype": "text/x-python",
   "name": "python",
   "nbconvert_exporter": "python",
   "pygments_lexer": "ipython3",
   "version": "3.11.1"
  },
  "orig_nbformat": 4
 },
 "nbformat": 4,
 "nbformat_minor": 2
}
