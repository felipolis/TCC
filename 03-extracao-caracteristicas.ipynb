{
 "cells": [
  {
   "cell_type": "code",
   "execution_count": null,
   "metadata": {},
   "outputs": [],
   "source": [
    "import os\n",
    "import cv2\n",
    "import pandas as pd\n",
    "from skimage import feature\n",
    "import numpy as np\n"
   ]
  },
  {
   "cell_type": "code",
   "execution_count": null,
   "metadata": {},
   "outputs": [],
   "source": [
    "diretorio_imagens = './data/patches/'\n",
    "diretorio_caracteristicas = './data/caracteristicas/'\n",
    "arquivo_csv = './data/caracteristicas/LBP.csv'\n",
    "\n",
    "# Se o diretório não existir, cria\n",
    "if not os.path.exists(diretorio_caracteristicas):\n",
    "    os.makedirs(diretorio_caracteristicas)\n"
   ]
  },
  {
   "cell_type": "code",
   "execution_count": null,
   "metadata": {},
   "outputs": [],
   "source": [
    "def calcular_LBP(imagem):\n",
    "    lbp = feature.local_binary_pattern(imagem, 8, 1, method=\"uniform\")\n",
    "    hist, _ = np.histogram(lbp.ravel(), bins=np.arange(0, 59))\n",
    "    hist = hist.astype(\"float\")\n",
    "    hist /= (hist.sum() + 1e-6)\n",
    "    return hist\n"
   ]
  },
  {
   "cell_type": "code",
   "execution_count": null,
   "metadata": {},
   "outputs": [],
   "source": [
    "# Inicialize um DataFrame vazio para armazenar as características LBP\n",
    "df = pd.DataFrame()\n",
    "\n",
    "# Percorra todos os diretórios [key]\n",
    "for key in os.listdir(diretorio_imagens):\n",
    "    key_path = os.path.join(diretorio_imagens, key)\n",
    "    \n",
    "    # Percorra todas as imagens no diretório [key]\n",
    "    for image_name in os.listdir(key_path):\n",
    "        image_path = os.path.join(key_path, image_name)\n",
    "        \n",
    "        # Carregue a imagem\n",
    "        imagem = cv2.imread(image_path, cv2.IMREAD_GRAYSCALE)\n",
    "        \n",
    "        # Calcule as características LBP\n",
    "        caracteristicas_lbp = calcular_LBP(imagem)\n",
    "\n",
    "        # Obtenha o nome do arquivo original\n",
    "        nome_arquivo_original = image_name.split('_')[0]\n",
    "        \n",
    "        # Adicione as características e o nome do arquivo ao DataFrame\n",
    "        df = df.append(pd.Series([key, nome_arquivo_original] + list(caracteristicas_lbp)), ignore_index=True)\n",
    "\n",
    "        print(f'Processando {image_path}')\n",
    "\n",
    "# Defina os nomes das colunas no DataFrame\n",
    "colunas = ['key', 'nome_arquivo'] + [f'LBP_{i}' for i in range(len(caracteristicas_lbp))]\n",
    "df.columns = colunas\n",
    "\n",
    "# Salve o DataFrame em um arquivo CSV\n",
    "df.to_csv(arquivo_csv, index=False)\n"
   ]
  }
 ],
 "metadata": {
  "kernelspec": {
   "display_name": "Python 3",
   "language": "python",
   "name": "python3"
  },
  "language_info": {
   "codemirror_mode": {
    "name": "ipython",
    "version": 3
   },
   "file_extension": ".py",
   "mimetype": "text/x-python",
   "name": "python",
   "nbconvert_exporter": "python",
   "pygments_lexer": "ipython3",
   "version": "3.11.1"
  },
  "orig_nbformat": 4
 },
 "nbformat": 4,
 "nbformat_minor": 2
}
