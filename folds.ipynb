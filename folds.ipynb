{
 "cells": [
  {
   "cell_type": "code",
   "execution_count": 1,
   "id": "6c53d94b",
   "metadata": {},
   "outputs": [],
   "source": [
    "import numpy as np\n",
    "from sklearn.model_selection import train_test_split, StratifiedKFold"
   ]
  },
  {
   "cell_type": "code",
   "execution_count": 2,
   "id": "4eee4643",
   "metadata": {},
   "outputs": [],
   "source": [
    "arquivos = np.array([str(i) + \".png\" for i in range(100)])\n",
    "y = np.array([\"a\"] * 50 + [\"b\"] * 25 + [\"c\"] * 25)"
   ]
  },
  {
   "cell_type": "code",
   "execution_count": 26,
   "id": "bfc2a6e3",
   "metadata": {},
   "outputs": [],
   "source": [
    "arq_treino, arq_teste, y_treino, y_teste = train_test_split(arquivos, y, test_size=0.2, stratify=y)"
   ]
  },
  {
   "cell_type": "code",
   "execution_count": 27,
   "id": "a126148a",
   "metadata": {},
   "outputs": [
    {
     "data": {
      "text/plain": [
       "(array(['a', 'b', 'c'], dtype='<U1'), array([40, 20, 20]))"
      ]
     },
     "execution_count": 27,
     "metadata": {},
     "output_type": "execute_result"
    }
   ],
   "source": [
    "np.unique(y_treino, return_counts=True)"
   ]
  },
  {
   "cell_type": "code",
   "execution_count": null,
   "id": "0549665d",
   "metadata": {},
   "outputs": [],
   "source": []
  },
  {
   "cell_type": "code",
   "execution_count": 3,
   "id": "765b83c6",
   "metadata": {},
   "outputs": [
    {
     "name": "stdout",
     "output_type": "stream",
     "text": [
      "['5.png' '6.png' '7.png' '8.png' '9.png' '10.png' '11.png' '12.png'\n",
      " '13.png' '14.png' '15.png' '16.png' '17.png' '18.png' '19.png' '20.png'\n",
      " '21.png' '22.png' '23.png' '24.png' '25.png' '26.png' '27.png' '28.png'\n",
      " '29.png' '30.png' '31.png' '32.png' '33.png' '34.png' '35.png' '36.png'\n",
      " '37.png' '38.png' '39.png' '40.png' '41.png' '42.png' '43.png' '44.png'\n",
      " '45.png' '46.png' '47.png' '48.png' '49.png' '53.png' '54.png' '55.png'\n",
      " '56.png' '57.png' '58.png' '59.png' '60.png' '61.png' '62.png' '63.png'\n",
      " '64.png' '65.png' '66.png' '67.png' '68.png' '69.png' '70.png' '71.png'\n",
      " '72.png' '73.png' '74.png' '77.png' '78.png' '79.png' '80.png' '81.png'\n",
      " '82.png' '83.png' '84.png' '85.png' '86.png' '87.png' '88.png' '89.png'\n",
      " '90.png' '91.png' '92.png' '93.png' '94.png' '95.png' '96.png' '97.png'\n",
      " '98.png' '99.png']\n"
     ]
    },
    {
     "ename": "TypeError",
     "evalue": "list.append() takes exactly one argument (0 given)",
     "output_type": "error",
     "traceback": [
      "\u001b[1;31m---------------------------------------------------------------------------\u001b[0m",
      "\u001b[1;31mTypeError\u001b[0m                                 Traceback (most recent call last)",
      "\u001b[1;32mc:\\Users\\Usuario\\Desktop\\7 - TCC1\\folds.ipynb Cell 6\u001b[0m line \u001b[0;36m2\n\u001b[0;32m     <a href='vscode-notebook-cell:/c%3A/Users/Usuario/Desktop/7%20-%20TCC1/folds.ipynb#W5sZmlsZQ%3D%3D?line=9'>10</a>\u001b[0m \u001b[39mprint\u001b[39m(x_treino)\n\u001b[0;32m     <a href='vscode-notebook-cell:/c%3A/Users/Usuario/Desktop/7%20-%20TCC1/folds.ipynb#W5sZmlsZQ%3D%3D?line=11'>12</a>\u001b[0m \u001b[39m#montar as matrizes X com as features de todos os patches do mesmo arquivo de acordo com x_treino e x_teste\u001b[39;00m\n\u001b[0;32m     <a href='vscode-notebook-cell:/c%3A/Users/Usuario/Desktop/7%20-%20TCC1/folds.ipynb#W5sZmlsZQ%3D%3D?line=12'>13</a>\u001b[0m \n\u001b[0;32m     <a href='vscode-notebook-cell:/c%3A/Users/Usuario/Desktop/7%20-%20TCC1/folds.ipynb#W5sZmlsZQ%3D%3D?line=13'>14</a>\u001b[0m \u001b[39m#treinar o modelo\u001b[39;00m\n\u001b[1;32m   (...)\u001b[0m\n\u001b[0;32m     <a href='vscode-notebook-cell:/c%3A/Users/Usuario/Desktop/7%20-%20TCC1/folds.ipynb#W5sZmlsZQ%3D%3D?line=16'>17</a>\u001b[0m \n\u001b[0;32m     <a href='vscode-notebook-cell:/c%3A/Users/Usuario/Desktop/7%20-%20TCC1/folds.ipynb#W5sZmlsZQ%3D%3D?line=17'>18</a>\u001b[0m \u001b[39m#calcular as métricas\u001b[39;00m\n\u001b[1;32m---> <a href='vscode-notebook-cell:/c%3A/Users/Usuario/Desktop/7%20-%20TCC1/folds.ipynb#W5sZmlsZQ%3D%3D?line=19'>20</a>\u001b[0m acc\u001b[39m.\u001b[39;49mappend()\n\u001b[0;32m     <a href='vscode-notebook-cell:/c%3A/Users/Usuario/Desktop/7%20-%20TCC1/folds.ipynb#W5sZmlsZQ%3D%3D?line=20'>21</a>\u001b[0m f1s\u001b[39m.\u001b[39mappend()\n",
      "\u001b[1;31mTypeError\u001b[0m: list.append() takes exactly one argument (0 given)"
     ]
    }
   ],
   "source": [
    "skf = StratifiedKFold(n_splits=10)\n",
    "acc = []\n",
    "f1s = []\n",
    "for treino_idx, teste_idx in skf.split(arquivos, y):\n",
    "    x_treino = arquivos[treino_idx]\n",
    "    y_treino = y[treino_idx]\n",
    "    x_teste = arquivos[teste_idx]\n",
    "    y_teste = y[teste_idx]\n",
    "    \n",
    "    print(x_treino)\n",
    "    \n",
    "    #montar as matrizes X com as features de todos os patches do mesmo arquivo de acordo com x_treino e x_teste\n",
    "    \n",
    "    #treinar o modelo\n",
    "    \n",
    "    #realizar as predições\n",
    "    \n",
    "    #calcular as métricas\n",
    "    \n",
    "    acc.append()\n",
    "    f1s.append()\n",
    "    \n",
    "    "
   ]
  },
  {
   "cell_type": "code",
   "execution_count": null,
   "id": "22f71e3a",
   "metadata": {},
   "outputs": [],
   "source": []
  }
 ],
 "metadata": {
  "kernelspec": {
   "display_name": "Python 3 (ipykernel)",
   "language": "python",
   "name": "python3"
  },
  "language_info": {
   "codemirror_mode": {
    "name": "ipython",
    "version": 3
   },
   "file_extension": ".py",
   "mimetype": "text/x-python",
   "name": "python",
   "nbconvert_exporter": "python",
   "pygments_lexer": "ipython3",
   "version": "3.11.1"
  }
 },
 "nbformat": 4,
 "nbformat_minor": 5
}
