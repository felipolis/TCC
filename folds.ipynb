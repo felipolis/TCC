{
 "cells": [
  {
   "cell_type": "code",
   "execution_count": 24,
   "id": "6c53d94b",
   "metadata": {},
   "outputs": [],
   "source": [
    "import numpy as np\n",
    "from sklearn.model_selection import train_test_split, StratifiedKFold"
   ]
  },
  {
   "cell_type": "code",
   "execution_count": 25,
   "id": "4eee4643",
   "metadata": {},
   "outputs": [],
   "source": [
    "arquivos = np.array([str(i) + \".png\" for i in range(100)])\n",
    "y = np.array([\"a\"] * 50 + [\"b\"] * 25 + [\"c\"] * 25)"
   ]
  },
  {
   "cell_type": "code",
   "execution_count": 26,
   "id": "bfc2a6e3",
   "metadata": {},
   "outputs": [],
   "source": [
    "arq_treino, arq_teste, y_treino, y_teste = train_test_split(arquivos, y, test_size=0.2, stratify=y)"
   ]
  },
  {
   "cell_type": "code",
   "execution_count": 27,
   "id": "a126148a",
   "metadata": {},
   "outputs": [
    {
     "data": {
      "text/plain": [
       "(array(['a', 'b', 'c'], dtype='<U1'), array([40, 20, 20]))"
      ]
     },
     "execution_count": 27,
     "metadata": {},
     "output_type": "execute_result"
    }
   ],
   "source": [
    "np.unique(y_treino, return_counts=True)"
   ]
  },
  {
   "cell_type": "code",
   "execution_count": null,
   "id": "0549665d",
   "metadata": {},
   "outputs": [],
   "source": []
  },
  {
   "cell_type": "code",
   "execution_count": 31,
   "id": "765b83c6",
   "metadata": {},
   "outputs": [
    {
     "name": "stdout",
     "output_type": "stream",
     "text": [
      "['5.png' '6.png' '7.png' '8.png' '9.png' '10.png' '11.png' '12.png'\n",
      " '13.png' '14.png' '15.png' '16.png' '17.png' '18.png' '19.png' '20.png'\n",
      " '21.png' '22.png' '23.png' '24.png' '25.png' '26.png' '27.png' '28.png'\n",
      " '29.png' '30.png' '31.png' '32.png' '33.png' '34.png' '35.png' '36.png'\n",
      " '37.png' '38.png' '39.png' '40.png' '41.png' '42.png' '43.png' '44.png'\n",
      " '45.png' '46.png' '47.png' '48.png' '49.png' '53.png' '54.png' '55.png'\n",
      " '56.png' '57.png' '58.png' '59.png' '60.png' '61.png' '62.png' '63.png'\n",
      " '64.png' '65.png' '66.png' '67.png' '68.png' '69.png' '70.png' '71.png'\n",
      " '72.png' '73.png' '74.png' '77.png' '78.png' '79.png' '80.png' '81.png'\n",
      " '82.png' '83.png' '84.png' '85.png' '86.png' '87.png' '88.png' '89.png'\n",
      " '90.png' '91.png' '92.png' '93.png' '94.png' '95.png' '96.png' '97.png'\n",
      " '98.png' '99.png']\n",
      "['0.png' '1.png' '2.png' '3.png' '4.png' '10.png' '11.png' '12.png'\n",
      " '13.png' '14.png' '15.png' '16.png' '17.png' '18.png' '19.png' '20.png'\n",
      " '21.png' '22.png' '23.png' '24.png' '25.png' '26.png' '27.png' '28.png'\n",
      " '29.png' '30.png' '31.png' '32.png' '33.png' '34.png' '35.png' '36.png'\n",
      " '37.png' '38.png' '39.png' '40.png' '41.png' '42.png' '43.png' '44.png'\n",
      " '45.png' '46.png' '47.png' '48.png' '49.png' '50.png' '51.png' '52.png'\n",
      " '56.png' '57.png' '58.png' '59.png' '60.png' '61.png' '62.png' '63.png'\n",
      " '64.png' '65.png' '66.png' '67.png' '68.png' '69.png' '70.png' '71.png'\n",
      " '72.png' '73.png' '74.png' '75.png' '76.png' '79.png' '80.png' '81.png'\n",
      " '82.png' '83.png' '84.png' '85.png' '86.png' '87.png' '88.png' '89.png'\n",
      " '90.png' '91.png' '92.png' '93.png' '94.png' '95.png' '96.png' '97.png'\n",
      " '98.png' '99.png']\n",
      "['0.png' '1.png' '2.png' '3.png' '4.png' '5.png' '6.png' '7.png' '8.png'\n",
      " '9.png' '15.png' '16.png' '17.png' '18.png' '19.png' '20.png' '21.png'\n",
      " '22.png' '23.png' '24.png' '25.png' '26.png' '27.png' '28.png' '29.png'\n",
      " '30.png' '31.png' '32.png' '33.png' '34.png' '35.png' '36.png' '37.png'\n",
      " '38.png' '39.png' '40.png' '41.png' '42.png' '43.png' '44.png' '45.png'\n",
      " '46.png' '47.png' '48.png' '49.png' '50.png' '51.png' '52.png' '53.png'\n",
      " '54.png' '55.png' '59.png' '60.png' '61.png' '62.png' '63.png' '64.png'\n",
      " '65.png' '66.png' '67.png' '68.png' '69.png' '70.png' '71.png' '72.png'\n",
      " '73.png' '74.png' '75.png' '76.png' '77.png' '78.png' '81.png' '82.png'\n",
      " '83.png' '84.png' '85.png' '86.png' '87.png' '88.png' '89.png' '90.png'\n",
      " '91.png' '92.png' '93.png' '94.png' '95.png' '96.png' '97.png' '98.png'\n",
      " '99.png']\n",
      "['0.png' '1.png' '2.png' '3.png' '4.png' '5.png' '6.png' '7.png' '8.png'\n",
      " '9.png' '10.png' '11.png' '12.png' '13.png' '14.png' '20.png' '21.png'\n",
      " '22.png' '23.png' '24.png' '25.png' '26.png' '27.png' '28.png' '29.png'\n",
      " '30.png' '31.png' '32.png' '33.png' '34.png' '35.png' '36.png' '37.png'\n",
      " '38.png' '39.png' '40.png' '41.png' '42.png' '43.png' '44.png' '45.png'\n",
      " '46.png' '47.png' '48.png' '49.png' '50.png' '51.png' '52.png' '53.png'\n",
      " '54.png' '55.png' '56.png' '57.png' '58.png' '62.png' '63.png' '64.png'\n",
      " '65.png' '66.png' '67.png' '68.png' '69.png' '70.png' '71.png' '72.png'\n",
      " '73.png' '74.png' '75.png' '76.png' '77.png' '78.png' '79.png' '80.png'\n",
      " '83.png' '84.png' '85.png' '86.png' '87.png' '88.png' '89.png' '90.png'\n",
      " '91.png' '92.png' '93.png' '94.png' '95.png' '96.png' '97.png' '98.png'\n",
      " '99.png']\n",
      "['0.png' '1.png' '2.png' '3.png' '4.png' '5.png' '6.png' '7.png' '8.png'\n",
      " '9.png' '10.png' '11.png' '12.png' '13.png' '14.png' '15.png' '16.png'\n",
      " '17.png' '18.png' '19.png' '25.png' '26.png' '27.png' '28.png' '29.png'\n",
      " '30.png' '31.png' '32.png' '33.png' '34.png' '35.png' '36.png' '37.png'\n",
      " '38.png' '39.png' '40.png' '41.png' '42.png' '43.png' '44.png' '45.png'\n",
      " '46.png' '47.png' '48.png' '49.png' '50.png' '51.png' '52.png' '53.png'\n",
      " '54.png' '55.png' '56.png' '57.png' '58.png' '59.png' '60.png' '61.png'\n",
      " '65.png' '66.png' '67.png' '68.png' '69.png' '70.png' '71.png' '72.png'\n",
      " '73.png' '74.png' '75.png' '76.png' '77.png' '78.png' '79.png' '80.png'\n",
      " '81.png' '82.png' '85.png' '86.png' '87.png' '88.png' '89.png' '90.png'\n",
      " '91.png' '92.png' '93.png' '94.png' '95.png' '96.png' '97.png' '98.png'\n",
      " '99.png']\n",
      "['0.png' '1.png' '2.png' '3.png' '4.png' '5.png' '6.png' '7.png' '8.png'\n",
      " '9.png' '10.png' '11.png' '12.png' '13.png' '14.png' '15.png' '16.png'\n",
      " '17.png' '18.png' '19.png' '20.png' '21.png' '22.png' '23.png' '24.png'\n",
      " '30.png' '31.png' '32.png' '33.png' '34.png' '35.png' '36.png' '37.png'\n",
      " '38.png' '39.png' '40.png' '41.png' '42.png' '43.png' '44.png' '45.png'\n",
      " '46.png' '47.png' '48.png' '49.png' '50.png' '51.png' '52.png' '53.png'\n",
      " '54.png' '55.png' '56.png' '57.png' '58.png' '59.png' '60.png' '61.png'\n",
      " '62.png' '63.png' '64.png' '67.png' '68.png' '69.png' '70.png' '71.png'\n",
      " '72.png' '73.png' '74.png' '75.png' '76.png' '77.png' '78.png' '79.png'\n",
      " '80.png' '81.png' '82.png' '83.png' '84.png' '88.png' '89.png' '90.png'\n",
      " '91.png' '92.png' '93.png' '94.png' '95.png' '96.png' '97.png' '98.png'\n",
      " '99.png']\n",
      "['0.png' '1.png' '2.png' '3.png' '4.png' '5.png' '6.png' '7.png' '8.png'\n",
      " '9.png' '10.png' '11.png' '12.png' '13.png' '14.png' '15.png' '16.png'\n",
      " '17.png' '18.png' '19.png' '20.png' '21.png' '22.png' '23.png' '24.png'\n",
      " '25.png' '26.png' '27.png' '28.png' '29.png' '35.png' '36.png' '37.png'\n",
      " '38.png' '39.png' '40.png' '41.png' '42.png' '43.png' '44.png' '45.png'\n",
      " '46.png' '47.png' '48.png' '49.png' '50.png' '51.png' '52.png' '53.png'\n",
      " '54.png' '55.png' '56.png' '57.png' '58.png' '59.png' '60.png' '61.png'\n",
      " '62.png' '63.png' '64.png' '65.png' '66.png' '69.png' '70.png' '71.png'\n",
      " '72.png' '73.png' '74.png' '75.png' '76.png' '77.png' '78.png' '79.png'\n",
      " '80.png' '81.png' '82.png' '83.png' '84.png' '85.png' '86.png' '87.png'\n",
      " '91.png' '92.png' '93.png' '94.png' '95.png' '96.png' '97.png' '98.png'\n",
      " '99.png']\n",
      "['0.png' '1.png' '2.png' '3.png' '4.png' '5.png' '6.png' '7.png' '8.png'\n",
      " '9.png' '10.png' '11.png' '12.png' '13.png' '14.png' '15.png' '16.png'\n",
      " '17.png' '18.png' '19.png' '20.png' '21.png' '22.png' '23.png' '24.png'\n",
      " '25.png' '26.png' '27.png' '28.png' '29.png' '30.png' '31.png' '32.png'\n",
      " '33.png' '34.png' '40.png' '41.png' '42.png' '43.png' '44.png' '45.png'\n",
      " '46.png' '47.png' '48.png' '49.png' '50.png' '51.png' '52.png' '53.png'\n",
      " '54.png' '55.png' '56.png' '57.png' '58.png' '59.png' '60.png' '61.png'\n",
      " '62.png' '63.png' '64.png' '65.png' '66.png' '67.png' '68.png' '71.png'\n",
      " '72.png' '73.png' '74.png' '75.png' '76.png' '77.png' '78.png' '79.png'\n",
      " '80.png' '81.png' '82.png' '83.png' '84.png' '85.png' '86.png' '87.png'\n",
      " '88.png' '89.png' '90.png' '94.png' '95.png' '96.png' '97.png' '98.png'\n",
      " '99.png']\n",
      "['0.png' '1.png' '2.png' '3.png' '4.png' '5.png' '6.png' '7.png' '8.png'\n",
      " '9.png' '10.png' '11.png' '12.png' '13.png' '14.png' '15.png' '16.png'\n",
      " '17.png' '18.png' '19.png' '20.png' '21.png' '22.png' '23.png' '24.png'\n",
      " '25.png' '26.png' '27.png' '28.png' '29.png' '30.png' '31.png' '32.png'\n",
      " '33.png' '34.png' '35.png' '36.png' '37.png' '38.png' '39.png' '45.png'\n",
      " '46.png' '47.png' '48.png' '49.png' '50.png' '51.png' '52.png' '53.png'\n",
      " '54.png' '55.png' '56.png' '57.png' '58.png' '59.png' '60.png' '61.png'\n",
      " '62.png' '63.png' '64.png' '65.png' '66.png' '67.png' '68.png' '69.png'\n",
      " '70.png' '73.png' '74.png' '75.png' '76.png' '77.png' '78.png' '79.png'\n",
      " '80.png' '81.png' '82.png' '83.png' '84.png' '85.png' '86.png' '87.png'\n",
      " '88.png' '89.png' '90.png' '91.png' '92.png' '93.png' '97.png' '98.png'\n",
      " '99.png']\n",
      "['0.png' '1.png' '2.png' '3.png' '4.png' '5.png' '6.png' '7.png' '8.png'\n",
      " '9.png' '10.png' '11.png' '12.png' '13.png' '14.png' '15.png' '16.png'\n",
      " '17.png' '18.png' '19.png' '20.png' '21.png' '22.png' '23.png' '24.png'\n",
      " '25.png' '26.png' '27.png' '28.png' '29.png' '30.png' '31.png' '32.png'\n",
      " '33.png' '34.png' '35.png' '36.png' '37.png' '38.png' '39.png' '40.png'\n",
      " '41.png' '42.png' '43.png' '44.png' '50.png' '51.png' '52.png' '53.png'\n",
      " '54.png' '55.png' '56.png' '57.png' '58.png' '59.png' '60.png' '61.png'\n",
      " '62.png' '63.png' '64.png' '65.png' '66.png' '67.png' '68.png' '69.png'\n",
      " '70.png' '71.png' '72.png' '75.png' '76.png' '77.png' '78.png' '79.png'\n",
      " '80.png' '81.png' '82.png' '83.png' '84.png' '85.png' '86.png' '87.png'\n",
      " '88.png' '89.png' '90.png' '91.png' '92.png' '93.png' '94.png' '95.png'\n",
      " '96.png']\n"
     ]
    }
   ],
   "source": [
    "skf = StratifiedKFold(n_splits=10)\n",
    "acc = []\n",
    "f1s = []\n",
    "for treino_idx, teste_idx in skf.split(arquivos, y):\n",
    "    x_treino = arquivos[treino_idx]\n",
    "    y_treino = y[treino_idx]\n",
    "    x_teste = arquivos[teste_idx]\n",
    "    y_teste = y[teste_idx]\n",
    "    \n",
    "    print(x_treino)\n",
    "    \n",
    "    #montar as matrizes X com as features de todos os patches do mesmo arquivo de acordo com x_treino e x_teste\n",
    "    \n",
    "    #treinar o modelo\n",
    "    \n",
    "    #realizar as predições\n",
    "    \n",
    "    #calcular as métricas\n",
    "    \n",
    "    acc.append()\n",
    "    f1s.append()\n",
    "    \n",
    "    "
   ]
  },
  {
   "cell_type": "code",
   "execution_count": null,
   "id": "22f71e3a",
   "metadata": {},
   "outputs": [],
   "source": []
  }
 ],
 "metadata": {
  "kernelspec": {
   "display_name": "Python 3 (ipykernel)",
   "language": "python",
   "name": "python3"
  },
  "language_info": {
   "codemirror_mode": {
    "name": "ipython",
    "version": 3
   },
   "file_extension": ".py",
   "mimetype": "text/x-python",
   "name": "python",
   "nbconvert_exporter": "python",
   "pygments_lexer": "ipython3",
   "version": "3.10.12"
  }
 },
 "nbformat": 4,
 "nbformat_minor": 5
}
