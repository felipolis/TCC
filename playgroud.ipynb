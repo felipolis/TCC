{
 "cells": [
  {
   "cell_type": "markdown",
   "metadata": {},
   "source": [
    "# Sobre\n",
    "Este é um jupyter para testar algoritmos antes de aplicar no projeto inteiro."
   ]
  },
  {
   "cell_type": "code",
   "execution_count": null,
   "metadata": {},
   "outputs": [],
   "source": [
    "import numpy as np\n",
    "import librosa\n",
    "import librosa.display\n",
    "import matplotlib.pyplot as plt\n",
    "\n",
    "# Carregar o arquivo de áudio\n",
    "audio_file = './data/audio.mp3'\n",
    "y, sr = librosa.load(audio_file)\n",
    "\n",
    "# Calcular o espectrograma\n",
    "D = librosa.amplitude_to_db(np.abs(librosa.stft(y, n_fft=2048, hop_length=1024)), ref=np.max)\n",
    "\n",
    "duration = librosa.get_duration(y=y, sr=sr)\n",
    "figsize = (duration, 6)\n",
    "\n",
    "plt.figure(figsize=figsize)\n",
    "\n",
    "# Mostrar o espectrograma\n",
    "librosa.display.specshow(D, sr=sr, hop_length=1024, x_axis='time', y_axis='linear')\n",
    "plt.axis('off')\n",
    "\n",
    "\n",
    "\n"
   ]
  }
 ],
 "metadata": {
  "kernelspec": {
   "display_name": "Python 3",
   "language": "python",
   "name": "python3"
  },
  "language_info": {
   "codemirror_mode": {
    "name": "ipython",
    "version": 3
   },
   "file_extension": ".py",
   "mimetype": "text/x-python",
   "name": "python",
   "nbconvert_exporter": "python",
   "pygments_lexer": "ipython3",
   "version": "3.11.1"
  },
  "orig_nbformat": 4
 },
 "nbformat": 4,
 "nbformat_minor": 2
}
