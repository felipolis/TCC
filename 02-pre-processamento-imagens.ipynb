{
 "cells": [
  {
   "cell_type": "code",
   "execution_count": 3,
   "metadata": {},
   "outputs": [
    {
     "name": "stdout",
     "output_type": "stream",
     "text": [
      "Patches cortados e salvos em './data/patches'\n"
     ]
    }
   ],
   "source": [
    "import os\n",
    "import cv2\n",
    "import numpy as np\n",
    "\n",
    "# Diretório onde estão os espectrogramas coloridos\n",
    "spectrogram_dir = \"./data/espectogramas\"\n",
    "\n",
    "# Diretório para salvar os patches\n",
    "patch_dir = \"./data/patches\"\n",
    "\n",
    "# Tamanho da janela (número de colunas) para cortar os espectrogramas\n",
    "n_columns = 500  # Altere para o número desejado\n",
    "\n",
    "# Se o diretório para salvar os patches não existir, crie-o\n",
    "if not os.path.exists(patch_dir):\n",
    "    os.mkdir(patch_dir)\n",
    "\n",
    "# Função para cortar e salvar os patches de um espectrograma\n",
    "def cut_and_save_patches(spectrogram_path, output_dir, n_columns):\n",
    "    # Carrega o espectrograma colorido\n",
    "    spectrogram = cv2.imread(spectrogram_path)\n",
    "\n",
    "    # Calcula a largura (número de colunas) do espectrograma\n",
    "    width = spectrogram.shape[1]\n",
    "\n",
    "    # Calcula quantos patches podem ser criados\n",
    "    num_patches = width // n_columns\n",
    "\n",
    "    # Verifica se tem resto\n",
    "    if width % n_columns != 0:\n",
    "        num_patches += 1\n",
    "\n",
    "    # Loop para cortar e salvar os patches\n",
    "    for i in range(num_patches):\n",
    "        start_col = i * n_columns\n",
    "        end_col = start_col + n_columns\n",
    "\n",
    "        # Corta o patch\n",
    "        patch = spectrogram[:, start_col:end_col, :]\n",
    "\n",
    "        # Se for o último patch e não for do mesmo tamanho que os outros, preenche com zeros\n",
    "        if i == num_patches - 1 and patch.shape[1] < n_columns:\n",
    "            padding = n_columns - patch.shape[1]\n",
    "            patch = np.pad(patch, ((0, 0), (0, padding), (0, 0)), mode='constant')\n",
    "\n",
    "        # Cria o nome do arquivo de saída\n",
    "        output_path = os.path.join(output_dir, f\"{os.path.basename(spectrogram_path).replace('.png', f'_patch_{i}.png')}\")\n",
    "\n",
    "        # Salva o patch\n",
    "        cv2.imwrite(output_path, patch)\n",
    "\n",
    "# Percorre os espectrogramas e corta em patches\n",
    "for root, dirs, files in os.walk(spectrogram_dir): # root = diretório atual, dirs = subdiretórios, files = arquivos\n",
    "    for file in files:\n",
    "        if file.endswith(\".png\"):\n",
    "            spectrogram_path = os.path.join(root, file)\n",
    "            output_subdir = os.path.relpath(root, spectrogram_dir)\n",
    "            output_dir = os.path.join(patch_dir, output_subdir)\n",
    "            os.makedirs(output_dir, exist_ok=True)\n",
    "            cut_and_save_patches(spectrogram_path, output_dir, n_columns)\n",
    "\n",
    "print(f\"Patches cortados e salvos em '{patch_dir}'\")\n"
   ]
  }
 ],
 "metadata": {
  "kernelspec": {
   "display_name": "Python 3",
   "language": "python",
   "name": "python3"
  },
  "language_info": {
   "codemirror_mode": {
    "name": "ipython",
    "version": 3
   },
   "file_extension": ".py",
   "mimetype": "text/x-python",
   "name": "python",
   "nbconvert_exporter": "python",
   "pygments_lexer": "ipython3",
   "version": "3.11.1"
  },
  "orig_nbformat": 4
 },
 "nbformat": 4,
 "nbformat_minor": 2
}
