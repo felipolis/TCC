{
 "cells": [
  {
   "cell_type": "code",
   "execution_count": 2,
   "metadata": {},
   "outputs": [],
   "source": [
    "import pandas as pd\n",
    "\n",
    "# carregando o arquivo\n",
    "df = pd.read_csv('./data/caracteristicas/Gabor.csv', header=None)\n",
    "\n",
    "# adicionando o nome das colunas\n",
    "df.columns = ['key', 'nome_arquivo', 'gabor_1', 'gabor_2', 'gabor_3', 'gabor_4', 'gabor_5', 'gabor_6', 'gabor_7', 'gabor_8', 'gabor_9', 'gabor_10', 'gabor_11', 'gabor_12']\n",
    "\n",
    "# salvando o DataFrame de volta no arquivo CSV com o cabeçalho\n",
    "df.to_csv('./data/caracteristicas/Gabor.csv', index=False)\n"
   ]
  }
 ],
 "metadata": {
  "kernelspec": {
   "display_name": "Python 3",
   "language": "python",
   "name": "python3"
  },
  "language_info": {
   "codemirror_mode": {
    "name": "ipython",
    "version": 3
   },
   "file_extension": ".py",
   "mimetype": "text/x-python",
   "name": "python",
   "nbconvert_exporter": "python",
   "pygments_lexer": "ipython3",
   "version": "3.11.1"
  },
  "orig_nbformat": 4
 },
 "nbformat": 4,
 "nbformat_minor": 2
}
